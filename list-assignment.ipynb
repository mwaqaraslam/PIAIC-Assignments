{
 "cells": [
  {
   "cell_type": "code",
   "execution_count": 21,
   "metadata": {},
   "outputs": [
    {
     "name": "stdout",
     "output_type": "stream",
     "text": [
      "['Ali', 'Ahmad', 'Bilal', 'Umer', 'Kamran']\n"
     ]
    }
   ],
   "source": [
    "names: list = ['Ali', 'Ahmad', 'Bilal', 'Umer', 'Kamran']\n",
    "print(names)"
   ]
  },
  {
   "cell_type": "code",
   "execution_count": 22,
   "metadata": {},
   "outputs": [
    {
     "data": {
      "text/plain": [
       "['Ali', 'Ahmad', 'Bilal', 'Umer', 'Kamran']"
      ]
     },
     "execution_count": 22,
     "metadata": {},
     "output_type": "execute_result"
    }
   ],
   "source": [
    "names"
   ]
  },
  {
   "cell_type": "code",
   "execution_count": 23,
   "metadata": {},
   "outputs": [
    {
     "name": "stdout",
     "output_type": "stream",
     "text": [
      "Hello Ali, Hope you are doing well.\n",
      "Hello Ahmad, Hope you are doing well.\n",
      "Hello Bilal, Hope you are doing well.\n",
      "Hello Umer, Hope you are doing well.\n",
      "Hello Kamran, Hope you are doing well.\n"
     ]
    }
   ],
   "source": [
    "for name in names:\n",
    "    message = f\"Hello {name}, Hope you are doing well.\"\n",
    "    print(message)"
   ]
  },
  {
   "cell_type": "code",
   "execution_count": 24,
   "metadata": {},
   "outputs": [
    {
     "name": "stdout",
     "output_type": "stream",
     "text": [
      "I would like to own Toyota grande.\n",
      "I would like to own Honda 70.\n",
      "I would like to own Nissan Note.\n",
      "I would like to own Tesla EV.\n"
     ]
    }
   ],
   "source": [
    "transporations: list = ['Toyota grande', 'Honda 70', 'Nissan Note', 'Tesla EV']\n",
    "for transportation in transporations:\n",
    "    statement = f\"I would like to own {transportation}.\"\n",
    "    print(statement)"
   ]
  },
  {
   "cell_type": "code",
   "execution_count": 17,
   "metadata": {},
   "outputs": [
    {
     "name": "stdout",
     "output_type": "stream",
     "text": [
      "Dear Aqeel, I would like to invite you for dinner. Please attend with your family. Thanks Waqar\n",
      "Dear Umer, I would like to invite you for dinner. Please attend with your family. Thanks Waqar\n",
      "Dear Ali, I would like to invite you for dinner. Please attend with your family. Thanks Waqar\n",
      "Dear Faheem, I would like to invite you for dinner. Please attend with your family. Thanks Waqar\n"
     ]
    }
   ],
   "source": [
    "guests: list = ['Aqeel', 'Umer', 'Ali', 'Faheem']\n",
    "for guest in guests:\n",
    "    invitation = f\"Dear {guest}, I would like to invite you for dinner. Please attend with your family. Thanks Waqar\"\n",
    "    print(invitation)"
   ]
  },
  {
   "cell_type": "code",
   "execution_count": 18,
   "metadata": {},
   "outputs": [
    {
     "name": "stdout",
     "output_type": "stream",
     "text": [
      "Dear Aqeel, I would like to invite you for dinner. Please attend with your family. Thanks Waqar\n",
      "Dear Malik, I would like to invite you for dinner. Please attend with your family. Thanks Waqar\n",
      "Dear Ali, I would like to invite you for dinner. Please attend with your family. Thanks Waqar\n",
      "Dear Faheem, I would like to invite you for dinner. Please attend with your family. Thanks Waqar\n"
     ]
    }
   ],
   "source": [
    "not_attend = guests[1] = 'Malik'\n",
    "for guest in guests:\n",
    "    invitation_2 = f\"Dear {guest}, I would like to invite you for dinner. Please attend with your family. Thanks Waqar\"\n",
    "    print(invitation_2)"
   ]
  },
  {
   "cell_type": "code",
   "execution_count": 19,
   "metadata": {},
   "outputs": [
    {
     "name": "stdout",
     "output_type": "stream",
     "text": [
      "Dear Sajid, I would like to invite you for dinner. Thanks Waqar\n",
      "Dear Aqeel, I would like to invite you for dinner. Thanks Waqar\n",
      "Dear Malik, I would like to invite you for dinner. Thanks Waqar\n",
      "Dear Kashif, I would like to invite you for dinner. Thanks Waqar\n",
      "Dear Ali, I would like to invite you for dinner. Thanks Waqar\n",
      "Dear Faheem, I would like to invite you for dinner. Thanks Waqar\n",
      "Dear Naeem, I would like to invite you for dinner. Thanks Waqar\n"
     ]
    }
   ],
   "source": [
    "guests.insert(0, 'Sajid')\n",
    "guests.insert(3, 'Kashif')\n",
    "guests.append('Naeem') \n",
    "for guest in guests:\n",
    "    invitation_3 = f\"Dear {guest}, I would like to invite you for dinner. Thanks Waqar\"\n",
    "    print(invitation_3)"
   ]
  },
  {
   "cell_type": "code",
   "execution_count": 20,
   "metadata": {},
   "outputs": [
    {
     "data": {
      "text/plain": [
       "['Sajid', 'Aqeel', 'Malik', 'Kashif', 'Ali', 'Faheem', 'Naeem']"
      ]
     },
     "execution_count": 20,
     "metadata": {},
     "output_type": "execute_result"
    }
   ],
   "source": [
    "guests"
   ]
  },
  {
   "cell_type": "code",
   "execution_count": 21,
   "metadata": {},
   "outputs": [
    {
     "name": "stdout",
     "output_type": "stream",
     "text": [
      "Sorry, we can only invite two people for dinner.\n"
     ]
    }
   ],
   "source": [
    "message_1 = \"Sorry, we can only invite two people for dinner.\"\n",
    "print(message_1)"
   ]
  },
  {
   "cell_type": "code",
   "execution_count": 22,
   "metadata": {},
   "outputs": [
    {
     "name": "stdout",
     "output_type": "stream",
     "text": [
      "Hello Sajid, We are sorry you are not invited for dinner\n"
     ]
    }
   ],
   "source": [
    "message_2 = f\"Hello {guests.pop(0)}, We are sorry you are not invited for dinner\"\n",
    "print(message_2)"
   ]
  },
  {
   "cell_type": "code",
   "execution_count": 23,
   "metadata": {},
   "outputs": [
    {
     "name": "stdout",
     "output_type": "stream",
     "text": [
      "Hello Aqeel, We are sorry you are not invited for dinner\n"
     ]
    }
   ],
   "source": [
    "message_2 = f\"Hello {guests.pop(0)}, We are sorry you are not invited for dinner\"\n",
    "print(message_2)"
   ]
  },
  {
   "cell_type": "code",
   "execution_count": 24,
   "metadata": {},
   "outputs": [
    {
     "name": "stdout",
     "output_type": "stream",
     "text": [
      "Hello Malik, We are sorry you are not invited for dinner\n"
     ]
    }
   ],
   "source": [
    "message_2 = f\"Hello {guests.pop(0)}, We are sorry you are not invited for dinner\"\n",
    "print(message_2)"
   ]
  },
  {
   "cell_type": "code",
   "execution_count": 25,
   "metadata": {},
   "outputs": [
    {
     "name": "stdout",
     "output_type": "stream",
     "text": [
      "Hello Kashif, We are sorry you are not invited for dinner\n"
     ]
    }
   ],
   "source": [
    "message_2 = f\"Hello {guests.pop(0)}, We are sorry you are not invited for dinner\"\n",
    "print(message_2)"
   ]
  },
  {
   "cell_type": "code",
   "execution_count": 26,
   "metadata": {},
   "outputs": [
    {
     "name": "stdout",
     "output_type": "stream",
     "text": [
      "Hello Ali, We are sorry you are not invited for dinner\n"
     ]
    }
   ],
   "source": [
    "message_2 = f\"Hello {guests.pop(0)}, We are sorry you are not invited for dinner\"\n",
    "print(message_2)"
   ]
  },
  {
   "cell_type": "code",
   "execution_count": 27,
   "metadata": {},
   "outputs": [
    {
     "name": "stdout",
     "output_type": "stream",
     "text": [
      "Hello Faheem, please to inform you that you are still invited for dinner\n",
      "Hello Naeem, please to inform you that you are still invited for dinner\n"
     ]
    }
   ],
   "source": [
    "for guest in guests:\n",
    "    message_3 = f\"Hello {guest}, please to inform you that you are still invited for dinner\"\n",
    "    print(message_3)"
   ]
  },
  {
   "cell_type": "code",
   "execution_count": 28,
   "metadata": {},
   "outputs": [
    {
     "name": "stdout",
     "output_type": "stream",
     "text": [
      "['Faheem', 'Naeem']\n"
     ]
    }
   ],
   "source": [
    "print(guests)"
   ]
  },
  {
   "cell_type": "code",
   "execution_count": 29,
   "metadata": {},
   "outputs": [],
   "source": [
    "del guests"
   ]
  },
  {
   "cell_type": "code",
   "execution_count": 30,
   "metadata": {},
   "outputs": [
    {
     "ename": "NameError",
     "evalue": "name 'guests' is not defined",
     "output_type": "error",
     "traceback": [
      "\u001b[1;31m---------------------------------------------------------------------------\u001b[0m",
      "\u001b[1;31mNameError\u001b[0m                                 Traceback (most recent call last)",
      "Cell \u001b[1;32mIn[30], line 1\u001b[0m\n\u001b[1;32m----> 1\u001b[0m \u001b[38;5;28mprint\u001b[39m(\u001b[43mguests\u001b[49m)\n",
      "\u001b[1;31mNameError\u001b[0m: name 'guests' is not defined"
     ]
    }
   ],
   "source": [
    "print(guests)"
   ]
  },
  {
   "cell_type": "code",
   "execution_count": 35,
   "metadata": {},
   "outputs": [
    {
     "name": "stdout",
     "output_type": "stream",
     "text": [
      "['KSA', 'Dubai', 'Paris', 'Baku', 'UK', 'Russia']\n"
     ]
    }
   ],
   "source": [
    "places: list = ['KSA', 'Dubai', 'Paris', 'Baku', 'UK', 'Russia']\n",
    "print(places)"
   ]
  },
  {
   "cell_type": "code",
   "execution_count": 32,
   "metadata": {},
   "outputs": [
    {
     "name": "stdout",
     "output_type": "stream",
     "text": [
      "['Baku', 'Dubai', 'KSA', 'Paris', 'Russia', 'UK']\n"
     ]
    }
   ],
   "source": [
    "places.sort()\n",
    "print(places)"
   ]
  },
  {
   "cell_type": "code",
   "execution_count": 34,
   "metadata": {},
   "outputs": [
    {
     "name": "stdout",
     "output_type": "stream",
     "text": [
      "['UK', 'Russia', 'Paris', 'KSA', 'Dubai', 'Baku']\n"
     ]
    }
   ],
   "source": [
    "places.sort(reverse=True)\n",
    "print(places)"
   ]
  },
  {
   "cell_type": "code",
   "execution_count": 36,
   "metadata": {},
   "outputs": [
    {
     "name": "stdout",
     "output_type": "stream",
     "text": [
      "['Russia', 'UK', 'Baku', 'Paris', 'Dubai', 'KSA']\n"
     ]
    }
   ],
   "source": [
    "places.reverse()\n",
    "print(places)"
   ]
  },
  {
   "cell_type": "code",
   "execution_count": 37,
   "metadata": {},
   "outputs": [
    {
     "name": "stdout",
     "output_type": "stream",
     "text": [
      "['KSA', 'Dubai', 'Paris', 'Baku', 'UK', 'Russia']\n"
     ]
    }
   ],
   "source": [
    "places.reverse()\n",
    "print(places)"
   ]
  },
  {
   "cell_type": "code",
   "execution_count": 38,
   "metadata": {},
   "outputs": [
    {
     "name": "stdout",
     "output_type": "stream",
     "text": [
      "['Baku', 'Dubai', 'KSA', 'Paris', 'Russia', 'UK']\n"
     ]
    }
   ],
   "source": [
    "places.sort()\n",
    "print(places)"
   ]
  },
  {
   "cell_type": "code",
   "execution_count": 41,
   "metadata": {},
   "outputs": [
    {
     "name": "stdout",
     "output_type": "stream",
     "text": [
      "['UK', 'Russia', 'Paris', 'KSA', 'Dubai', 'Baku']\n"
     ]
    }
   ],
   "source": [
    "places.sort(reverse=True)\n",
    "print(places)"
   ]
  },
  {
   "cell_type": "code",
   "execution_count": 118,
   "metadata": {},
   "outputs": [
    {
     "name": "stdout",
     "output_type": "stream",
     "text": [
      "['Lahore', 'Makha', 'Madina', 'Karachi', 'Delhi', 'Gaza']\n"
     ]
    }
   ],
   "source": [
    "cities: list = ['Lahore', 'Makha', 'Madina', 'Karachi', 'Delhi', 'Gaza']\n",
    "print(cities)"
   ]
  },
  {
   "cell_type": "code",
   "execution_count": 119,
   "metadata": {},
   "outputs": [
    {
     "name": "stdout",
     "output_type": "stream",
     "text": [
      "Makha\n",
      "['Lahore', 'Makha', 'Madina']\n",
      "Delhi\n",
      "Makha\n",
      "Gaza\n",
      "['Lahore', 'Makha', 'Madina', 'Karachi', 'Delhi', 'Gaza']\n",
      "['Lahore', 'Makha', 'Madina', 'Karachi', 'Delhi']\n",
      "['Lahore', 'Makha', 'Madina', 'Karachi']\n"
     ]
    }
   ],
   "source": [
    "print(cities[1])\n",
    "print(cities[0:3])\n",
    "print(cities[-2])\n",
    "print(cities[-5])\n",
    "print(cities[-1])\n",
    "print(cities[-6:])\n",
    "print(cities[-7:-1])\n",
    "print(cities[:4])"
   ]
  },
  {
   "cell_type": "code",
   "execution_count": 120,
   "metadata": {},
   "outputs": [
    {
     "name": "stdout",
     "output_type": "stream",
     "text": [
      "['Lahore', 'Makha', 'Madina', 'Karachi', 'Delhi', 'Gaza', 'Multan']\n"
     ]
    }
   ],
   "source": [
    "cities.append('Multan')\n",
    "print(cities)"
   ]
  },
  {
   "cell_type": "code",
   "execution_count": 121,
   "metadata": {},
   "outputs": [
    {
     "name": "stdout",
     "output_type": "stream",
     "text": [
      "['Lahore', 'Makha', 'Madina', 'Karachi', 'Delhi', 'Gaza', 'Multan']\n"
     ]
    }
   ],
   "source": [
    "Copied_cities = cities.copy()\n",
    "print(Copied_cities)"
   ]
  },
  {
   "cell_type": "code",
   "execution_count": 122,
   "metadata": {},
   "outputs": [
    {
     "name": "stdout",
     "output_type": "stream",
     "text": [
      "2116709295680\n",
      "2116709287360\n"
     ]
    }
   ],
   "source": [
    "print(id(cities))\n",
    "print(id(Copied_cities))"
   ]
  },
  {
   "cell_type": "code",
   "execution_count": 123,
   "metadata": {},
   "outputs": [
    {
     "name": "stdout",
     "output_type": "stream",
     "text": [
      "1\n",
      "Number of cities: 7\n"
     ]
    }
   ],
   "source": [
    "print(cities.count('Karachi'))\n",
    "No_of_cities = len(cities)\n",
    "print(\"Number of cities:\", No_of_cities)"
   ]
  },
  {
   "cell_type": "code",
   "execution_count": 124,
   "metadata": {},
   "outputs": [
    {
     "name": "stdout",
     "output_type": "stream",
     "text": [
      "['ravi', 'sindh', 'chenab']\n"
     ]
    }
   ],
   "source": [
    "rivers: list = ['ravi', 'sindh', 'chenab']\n",
    "print(rivers)"
   ]
  },
  {
   "cell_type": "code",
   "execution_count": 125,
   "metadata": {},
   "outputs": [
    {
     "name": "stdout",
     "output_type": "stream",
     "text": [
      "['Lahore', 'Makha', 'Madina', 'Karachi', 'Delhi', 'Gaza', 'Multan', 'ravi', 'sindh', 'chenab']\n"
     ]
    }
   ],
   "source": [
    "cities.extend(rivers)\n",
    "print(cities)"
   ]
  },
  {
   "cell_type": "code",
   "execution_count": 126,
   "metadata": {},
   "outputs": [
    {
     "data": {
      "text/plain": [
       "4"
      ]
     },
     "execution_count": 126,
     "metadata": {},
     "output_type": "execute_result"
    }
   ],
   "source": [
    "cities.index('Delhi')\n"
   ]
  },
  {
   "cell_type": "code",
   "execution_count": 127,
   "metadata": {},
   "outputs": [
    {
     "name": "stdout",
     "output_type": "stream",
     "text": [
      "['Lahore', 'Makha', 'Faisalabad', 'Madina', 'Karachi', 'Delhi', 'Gaza', 'Multan', 'ravi', 'sindh', 'chenab']\n"
     ]
    }
   ],
   "source": [
    "cities.insert(2,'Faisalabad')\n",
    "print(cities)"
   ]
  },
  {
   "cell_type": "code",
   "execution_count": 128,
   "metadata": {},
   "outputs": [
    {
     "name": "stdout",
     "output_type": "stream",
     "text": [
      "['Lahore', 'Makha', 'Faisalabad', 'Madina', 'Delhi', 'Gaza', 'Multan', 'ravi', 'sindh', 'chenab']\n"
     ]
    }
   ],
   "source": [
    "cities.pop(4)\n",
    "print(cities)"
   ]
  },
  {
   "cell_type": "code",
   "execution_count": 129,
   "metadata": {},
   "outputs": [
    {
     "name": "stdout",
     "output_type": "stream",
     "text": [
      "['Lahore', 'Makha', 'Faisalabad', 'Madina', 'Delhi', 'Gaza', 'Multan', 'sindh', 'chenab']\n"
     ]
    }
   ],
   "source": [
    "cities.remove('ravi')\n",
    "print(cities)"
   ]
  },
  {
   "cell_type": "code",
   "execution_count": 130,
   "metadata": {},
   "outputs": [
    {
     "name": "stdout",
     "output_type": "stream",
     "text": [
      "['Lahore', 'Makha', 'Faisalabad', 'Madina', 'Delhi', 'Gaza', 'Multan', 'sindh', 'chenab']\n"
     ]
    }
   ],
   "source": [
    "cities.reverse\n",
    "print(cities)"
   ]
  },
  {
   "cell_type": "code",
   "execution_count": 131,
   "metadata": {},
   "outputs": [
    {
     "name": "stdout",
     "output_type": "stream",
     "text": [
      "['Delhi', 'Faisalabad', 'Gaza', 'Lahore', 'Madina', 'Makha', 'Multan', 'chenab', 'sindh']\n"
     ]
    }
   ],
   "source": [
    "cities.sort()\n",
    "print(cities)"
   ]
  },
  {
   "cell_type": "code",
   "execution_count": 132,
   "metadata": {},
   "outputs": [
    {
     "ename": "IndexError",
     "evalue": "list index out of range",
     "output_type": "error",
     "traceback": [
      "\u001b[1;31m---------------------------------------------------------------------------\u001b[0m",
      "\u001b[1;31mIndexError\u001b[0m                                Traceback (most recent call last)",
      "Cell \u001b[1;32mIn[132], line 1\u001b[0m\n\u001b[1;32m----> 1\u001b[0m \u001b[38;5;28mprint\u001b[39m(\u001b[43mcities\u001b[49m\u001b[43m[\u001b[49m\u001b[38;5;241;43m9\u001b[39;49m\u001b[43m]\u001b[49m)\n",
      "\u001b[1;31mIndexError\u001b[0m: list index out of range"
     ]
    }
   ],
   "source": [
    "print(cities[9])"
   ]
  },
  {
   "cell_type": "code",
   "execution_count": 133,
   "metadata": {},
   "outputs": [
    {
     "name": "stdout",
     "output_type": "stream",
     "text": [
      "sindh\n"
     ]
    }
   ],
   "source": [
    "print(cities[8])"
   ]
  }
 ],
 "metadata": {
  "kernelspec": {
   "display_name": "Python 3",
   "language": "python",
   "name": "python3"
  },
  "language_info": {
   "codemirror_mode": {
    "name": "ipython",
    "version": 3
   },
   "file_extension": ".py",
   "mimetype": "text/x-python",
   "name": "python",
   "nbconvert_exporter": "python",
   "pygments_lexer": "ipython3",
   "version": "3.12.5"
  }
 },
 "nbformat": 4,
 "nbformat_minor": 2
}
