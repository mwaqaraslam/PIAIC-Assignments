{
 "cells": [
  {
   "cell_type": "code",
   "execution_count": 1,
   "metadata": {},
   "outputs": [
    {
     "name": "stdout",
     "output_type": "stream",
     "text": [
      "Hi Waqar, thanks for sharing your favorite numbers.\n",
      "Your 1st favorite number is: 10\n",
      "Your 2nd favorite number is: 25\n",
      "Your 3rd favorite number is: 15\n",
      "[10, 25, 15]\n",
      "The number 10 is even\n",
      "The number 25 is odd\n",
      "The number 15 is odd\n",
      "The number 10 and its square: (10, 100)\n",
      "The number 25 and its square: (25, 625)\n",
      "The number 15 and its square: (15, 225)\n",
      "Great! The sum of your favorite numbers is 50\n",
      "50 is not a prime number!\n"
     ]
    }
   ],
   "source": [
    "name = str(input(\"Enter your name: \"))\n",
    "num1 = int(input(\"Enter your 1st favorite numner: \"))\n",
    "num2 = int(input(\"Enter your 2nd favorite numner: \"))\n",
    "num3 = int(input(\"Enter your 3rd favorite numner: \"))\n",
    "print(f\"Hi {name}, thanks for sharing your favorite numbers.\")\n",
    "print(f'Your 1st favorite number is: {num1}')\n",
    "print(f'Your 2nd favorite number is: {num2}')\n",
    "print(f'Your 3rd favorite number is: {num3}')\n",
    "fav_num : list= [num1, num2, num3]\n",
    "print(fav_num)\n",
    "\n",
    "even_odd_num = []\n",
    "for num in fav_num:\n",
    "    if num % 2 ==0:\n",
    "        even_odd_num.append((num, \"even\"))\n",
    "    else:\n",
    "        even_odd_num.append((num, \"odd\"))\n",
    "\n",
    "for num_status in even_odd_num:\n",
    "    print(f'The number {num_status[0]} is {num_status[1]}')\n",
    "\n",
    "for x in fav_num:\n",
    "    squared = x * x\n",
    "    print(f'The number {x} and its square: ({x}, {squared})')\n",
    "\n",
    "num_sum = num1+num2+num3\n",
    "print(f'Great! The sum of your favorite numbers is {num_sum}')\n",
    "\n",
    "prime_num = True\n",
    "if num_sum <=1:\n",
    "    prime_num = False\n",
    "for p in range(2,num_sum):\n",
    "    if num_sum % p ==0:\n",
    "        prime_num = False\n",
    "        break\n",
    "if prime_num:\n",
    "    print(f'{num_sum} is prime number! ')\n",
    "else:\n",
    "    print(f'{num_sum} is not a prime number!')"
   ]
  }
 ],
 "metadata": {
  "kernelspec": {
   "display_name": "Python 3",
   "language": "python",
   "name": "python3"
  },
  "language_info": {
   "codemirror_mode": {
    "name": "ipython",
    "version": 3
   },
   "file_extension": ".py",
   "mimetype": "text/x-python",
   "name": "python",
   "nbconvert_exporter": "python",
   "pygments_lexer": "ipython3",
   "version": "3.12.5"
  }
 },
 "nbformat": 4,
 "nbformat_minor": 2
}
